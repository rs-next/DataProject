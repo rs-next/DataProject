{
  "nbformat": 4,
  "nbformat_minor": 0,
  "metadata": {
    "colab": {
      "provenance": []
    },
    "kernelspec": {
      "name": "python3",
      "display_name": "Python 3"
    },
    "language_info": {
      "name": "python"
    }
  },
  "cells": [
    {
      "cell_type": "code",
      "execution_count": 3,
      "metadata": {
        "colab": {
          "base_uri": "https://localhost:8080/"
        },
        "id": "82rRkgiyXzns",
        "outputId": "28bafc0b-7eec-40a4-bc3c-c9064da49d43"
      },
      "outputs": [
        {
          "output_type": "stream",
          "name": "stdout",
          "text": [
            "     시점     소계   합의이혼  재판이혼   미상\n",
            "0  2000  25477  21515  3794  168\n",
            "1  2001  28962  23914  4791  257\n",
            "2  2002  29351  24670  4504  177\n",
            "3  2003  32499  28193  4054  252\n",
            "4  2004  26994  22780  4025  189\n"
          ]
        }
      ],
      "source": [
        "import pandas as pd\n",
        "\n",
        "file_path = '/content/종류별_이혼건수.csv'\n",
        "df = pd.read_csv(file_path)\n",
        "print(df.head())\n",
        "\n"
      ]
    },
    {
      "cell_type": "markdown",
      "source": [
        "ㅁㄴㅇㅁㄴㅇㅁㄴㅇ"
      ],
      "metadata": {
        "id": "G_JuaIZaaLB5"
      }
    },
    {
      "cell_type": "code",
      "source": [
        "# 정수형으로 변환\n",
        "columns_to_convert = ['합의이혼', '재판이혼', '미상']\n",
        "df[columns_to_convert] = df[columns_to_convert].apply(pd.to_numeric, errors='coerce', downcast='integer')\n",
        "\n",
        "# 변환 결과 확인\n",
        "print(df.dtypes)\n",
        "print(df.head())"
      ],
      "metadata": {
        "colab": {
          "base_uri": "https://localhost:8080/"
        },
        "id": "56ZgCgmgYg9I",
        "outputId": "c2a1cbec-41df-4827-9f77-68894885a388"
      },
      "execution_count": 4,
      "outputs": [
        {
          "output_type": "stream",
          "name": "stdout",
          "text": [
            "시점        int64\n",
            "소계        int64\n",
            "합의이혼      int16\n",
            "재판이혼      int16\n",
            "미상      float64\n",
            "dtype: object\n",
            "     시점     소계   합의이혼  재판이혼     미상\n",
            "0  2000  25477  21515  3794  168.0\n",
            "1  2001  28962  23914  4791  257.0\n",
            "2  2002  29351  24670  4504  177.0\n",
            "3  2003  32499  28193  4054  252.0\n",
            "4  2004  26994  22780  4025  189.0\n"
          ]
        }
      ]
    }
  ]
}